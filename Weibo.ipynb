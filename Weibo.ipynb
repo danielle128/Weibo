{
 "cells": [
  {
   "cell_type": "code",
   "execution_count": null,
   "metadata": {
    "collapsed": false
   },
   "outputs": [],
   "source": [
    "import os,json\n",
    "import pandas as pd\n",
    "from datetime import datetime\n",
    "from dateutil.parser import parse\n",
    "import numpy as np\n",
    "import jieba\n",
    "import jieba.analyse\n",
    "import matplotlib.pyplot as plt\n",
    "%matplotlib inline\n",
    "import seaborn as sns\n",
    "sns.set(style='whitegrid', color_codes=True)\n"
   ]
  },
  {
   "cell_type": "code",
   "execution_count": null,
   "metadata": {
    "collapsed": false
   },
   "outputs": [],
   "source": [
    "### load files from all folders\n",
    "def list_dirs(dir):                                                                                                  \n",
    "    r = []                                                                                                            \n",
    "    subdirs = [x[0] for x in os.walk(dir)]                                                                            \n",
    "    for subdir in subdirs:                                                                                            \n",
    "        files = os.walk(subdir).next()[2]                                                                             \n",
    "        if (len(files) > 1):                                                                                          \n",
    "            for file in files:                                                                                        \n",
    "                r.append(subdir + '/'+ file)                                                                         \n",
    "    return r \n",
    "path_comments = list_dirs('weibo/comments/')\n",
    "path_reposts = list_dirs('weibo/reposts/')\n",
    "path_statuses = list_dirs('weibo/statuses/')\n",
    "comment_files = [pos_json for pos_json in path_comments if pos_json.endswith('.json')]\n",
    "reposts_files = [pos_json for pos_json in path_reposts if pos_json.endswith('.json')]\n",
    "statuses_files = [pos_json for pos_json in path_statuses if pos_json.endswith('.json')]\n",
    "\n",
    "\n",
    "\n",
    "def make_df(from_files):\n",
    "    df = pd.DataFrame(columns = ['id','gender', 'time','location', 'text'])\n",
    "    for index, json_file in enumerate(from_files):\n",
    "        json_data = open(json_file)\n",
    "        text = json.load(json_data)\n",
    "        user_id = text['user']['id']\n",
    "        user_gender = text['user']['gender']\n",
    "        time = parse(text['created_at'])\n",
    "        if text['user']['location'][0:2] == u'\\u6d77\\u5916':\n",
    "            user_loc = text['user']['location'][3:]\n",
    "        else:    \n",
    "            user_loc = text['user']['location'][0:2]\n",
    "        try:\n",
    "            user_text = text['retweeted_status']['text']\n",
    "        except:    \n",
    "            user_text = text['text']\n",
    "        df.loc[index] = [user_id, user_gender, time, user_loc, user_text]\n",
    "    return df\n",
    "\n",
    "print len(comment_files),len(reposts_files),len(statuses_files)\n"
   ]
  },
  {
   "cell_type": "code",
   "execution_count": null,
   "metadata": {
    "collapsed": false
   },
   "outputs": [],
   "source": [
    "\n"
   ]
  },
  {
   "cell_type": "code",
   "execution_count": null,
   "metadata": {
    "collapsed": false
   },
   "outputs": [],
   "source": [
    "### create dataframes and combine for analysis\n",
    "\n",
    "df_comments = make_df(comment_files)\n",
    "df_reposts = make_df(reposts_files)\n",
    "df_statuses = make_df(statuses_files)\n",
    "\n",
    "df_comments['type'],df_reposts['type'],df_statuses['type'] = 'comment','repost','statuse'\n",
    "\n",
    "df = df_comments.append([df_reposts,df_statuses])"
   ]
  },
  {
   "cell_type": "code",
   "execution_count": null,
   "metadata": {
    "collapsed": true
   },
   "outputs": [],
   "source": [
    "\n"
   ]
  },
  {
   "cell_type": "code",
   "execution_count": null,
   "metadata": {
    "collapsed": false
   },
   "outputs": [],
   "source": [
    "\n",
    "df.text.str.lower().str.contains('katespades').sum()"
   ]
  },
  {
   "cell_type": "code",
   "execution_count": null,
   "metadata": {
    "collapsed": false
   },
   "outputs": [],
   "source": []
  },
  {
   "cell_type": "code",
   "execution_count": null,
   "metadata": {
    "collapsed": false
   },
   "outputs": [],
   "source": [
    "df_mk,df_ks = df[df.text.str.lower().str.contains('michael kors|michaelkors|micheal kors|michealkors|mk')],df[df.text.str.lower().str.contains('kate spade|katespade|kate spades|katespades|ks')]\n",
    "\n"
   ]
  },
  {
   "cell_type": "code",
   "execution_count": null,
   "metadata": {
    "collapsed": false
   },
   "outputs": [],
   "source": [
    "### total number of posts and unique users mentioning Michael Kors\n",
    "print 'There are', len(df_mk) , 'posts and' , df_mk['id'].nunique() , 'users mentioning Michael Kors'"
   ]
  },
  {
   "cell_type": "code",
   "execution_count": null,
   "metadata": {
    "collapsed": false
   },
   "outputs": [],
   "source": [
    "### total number of posts and unique users mentioning Kate Spade\n",
    "print 'There are', len(df_ks) , 'posts and' , df_ks['id'].nunique() , 'users mentioning Kate Spade'"
   ]
  },
  {
   "cell_type": "code",
   "execution_count": null,
   "metadata": {
    "collapsed": false
   },
   "outputs": [],
   "source": [
    "### top 10 users for total posts\n",
    "df.groupby('id').size().nlargest(10)"
   ]
  },
  {
   "cell_type": "code",
   "execution_count": null,
   "metadata": {
    "collapsed": false
   },
   "outputs": [],
   "source": [
    "### top 10 locations for total posts\n",
    "df[df.location!=''].groupby('location').size().nlargest(10)"
   ]
  },
  {
   "cell_type": "code",
   "execution_count": null,
   "metadata": {
    "collapsed": false,
    "scrolled": true
   },
   "outputs": [],
   "source": [
    "### top 10 users with Michael Kors mentions\n",
    "df_mk.groupby('id').size().nlargest(10)"
   ]
  },
  {
   "cell_type": "code",
   "execution_count": null,
   "metadata": {
    "collapsed": false,
    "scrolled": true
   },
   "outputs": [],
   "source": [
    "### top 10 locations with Michael Kors mentions\n",
    "df_mk[df_mk.location!=''].groupby('location').size().nlargest(10)"
   ]
  },
  {
   "cell_type": "code",
   "execution_count": null,
   "metadata": {
    "collapsed": false
   },
   "outputs": [],
   "source": [
    "### top 10 users with Kate Spade mentions\n",
    "df_ks.groupby('id').size().nlargest(10)"
   ]
  },
  {
   "cell_type": "code",
   "execution_count": null,
   "metadata": {
    "collapsed": false
   },
   "outputs": [],
   "source": [
    "### top 10 locations with Kate Spade mentions\n",
    "df_ks[df_ks.location!=''].groupby('location').size().nlargest(10)"
   ]
  },
  {
   "cell_type": "code",
   "execution_count": null,
   "metadata": {
    "collapsed": false
   },
   "outputs": [],
   "source": [
    "### create time series data frames\n",
    "df_mk.index, df_ks.index = df_mk['time'], df_ks['time']\n",
    "df_mk['date'], df_mk['hour'], df_mk['brand'] = df_mk.index.date, df_mk.index.hour, 'Michael Kors'\n",
    "df_ks['date'], df_ks['hour'], df_ks['brand'] = df_ks.index.date, df_ks.index.hour, 'Kate Spade'"
   ]
  },
  {
   "cell_type": "code",
   "execution_count": null,
   "metadata": {
    "collapsed": false
   },
   "outputs": [],
   "source": [
    "### top mention date for each brand\n",
    "print df_mk.groupby('date').size().nlargest(1), df_ks.groupby('date').size().nlargest(1)"
   ]
  },
  {
   "cell_type": "code",
   "execution_count": null,
   "metadata": {
    "collapsed": false
   },
   "outputs": [],
   "source": [
    "df_mk_type,df_ks_type = df_mk[df_mk['type']!= 'statuse'], df_ks[df_ks['type']!= 'statuse']\n",
    "\n",
    "df_ts_alltype, df_ts = df_mk.append(df_ks), df_mk_type.append(df_ks_type)\n"
   ]
  },
  {
   "cell_type": "code",
   "execution_count": null,
   "metadata": {
    "collapsed": false
   },
   "outputs": [],
   "source": [
    "### peak hour for total post\n",
    "df_ts_alltype.groupby('hour').size().nlargest(1)"
   ]
  },
  {
   "cell_type": "code",
   "execution_count": null,
   "metadata": {
    "collapsed": false
   },
   "outputs": [],
   "source": [
    "### peak hour for each brand\n",
    "print df_mk.groupby('hour').size().nlargest(1), df_ks.groupby('hour').size().nlargest(1)"
   ]
  },
  {
   "cell_type": "code",
   "execution_count": null,
   "metadata": {
    "collapsed": true
   },
   "outputs": [],
   "source": []
  },
  {
   "cell_type": "code",
   "execution_count": null,
   "metadata": {
    "collapsed": false
   },
   "outputs": [],
   "source": [
    "### popular words associated with Michael Kors\n",
    "words_mk = u''\n",
    "for word in df_mk['text'].str.lower():\n",
    "    words_mk = words_mk + word\n",
    "    \n",
    "top_word_mk = jieba.analyse.extract_tags(words_mk, topK=20, withWeight=False, allowPOS=())\n",
    "pd.DataFrame(top_word_mk).T"
   ]
  },
  {
   "cell_type": "code",
   "execution_count": null,
   "metadata": {
    "collapsed": false
   },
   "outputs": [],
   "source": [
    "### popular words associated with Kate Spade\n",
    "words_ks = u''\n",
    "for word in df_ks['text'].str.lower():\n",
    "    words_ks = words_ks + word\n",
    "    \n",
    "top_word_ks = jieba.analyse.extract_tags(words_ks, topK=20, withWeight=False, allowPOS=())\n",
    "pd.DataFrame(top_word_ks).T"
   ]
  },
  {
   "cell_type": "code",
   "execution_count": null,
   "metadata": {
    "collapsed": false
   },
   "outputs": [],
   "source": []
  },
  {
   "cell_type": "code",
   "execution_count": null,
   "metadata": {
    "collapsed": false
   },
   "outputs": [],
   "source": []
  },
  {
   "cell_type": "code",
   "execution_count": null,
   "metadata": {
    "collapsed": false
   },
   "outputs": [],
   "source": [
    "### Michael Kors related comments and reposts count per day \n",
    "ts_count_mk = df_mk_type.groupby(['date','type'])['text'].count()\n",
    "ts_count_mk.to_csv('daily_count_mk.csv')\n",
    "ts_count_mk.head(10)"
   ]
  },
  {
   "cell_type": "code",
   "execution_count": null,
   "metadata": {
    "collapsed": false
   },
   "outputs": [],
   "source": [
    "### Kate Spade related comments and reposts count per day \n",
    "ts_count_ks = df_ks_type.groupby(['date','type'])['text'].count()\n",
    "ts_count_ks.to_csv('daily_count_ks.csv')\n",
    "ts_count_ks.head(10)"
   ]
  },
  {
   "cell_type": "code",
   "execution_count": null,
   "metadata": {
    "collapsed": false,
    "scrolled": true
   },
   "outputs": [],
   "source": [
    "### plot total converstation for each brand over the entire time frame\n",
    "g = sns.factorplot(x = 'date', hue = 'type', col = 'brand', data =df_ts, size = 8, kind = 'count')\n",
    "g.set_xticklabels(df_ts.date.unique(),rotation = 90)"
   ]
  },
  {
   "cell_type": "code",
   "execution_count": null,
   "metadata": {
    "collapsed": false
   },
   "outputs": [],
   "source": [
    "### explore user bias -- gender\n",
    "df.groupby('gender')['id'].nunique()"
   ]
  },
  {
   "cell_type": "code",
   "execution_count": null,
   "metadata": {
    "collapsed": false
   },
   "outputs": [],
   "source": [
    "daily_post_count = df_ts['text'].groupby([df_ts.date,df_ts.gender]).size().unstack()\n",
    "daily_posts.head()"
   ]
  },
  {
   "cell_type": "code",
   "execution_count": null,
   "metadata": {
    "collapsed": false
   },
   "outputs": [],
   "source": [
    "plt.title('Number of Posts, Averaged Daily', fontsize = 18)\n",
    "sns.boxplot(data = daily_posts)\n",
    "sns.stripplot(data = daily_posts,jitter=True)"
   ]
  },
  {
   "cell_type": "code",
   "execution_count": null,
   "metadata": {
    "collapsed": false
   },
   "outputs": [],
   "source": [
    "\n",
    "g = sns.factorplot(x = 'date', hue = 'gender', col = 'brand', data =df_ts, size = 10, kind = 'count')\n",
    "g.set_xticklabels(df_ts.date.unique(),rotation = 90)"
   ]
  },
  {
   "cell_type": "code",
   "execution_count": null,
   "metadata": {
    "collapsed": false
   },
   "outputs": [],
   "source": [
    "g = sns.factorplot(x = 'gender', col = 'brand', data =df_ts, size = 10, kind = 'count')"
   ]
  },
  {
   "cell_type": "code",
   "execution_count": null,
   "metadata": {
    "collapsed": false
   },
   "outputs": [],
   "source": [
    "g = sns.factorplot(x = 'brand', col = 'gender', data =df_ts, size = 10, kind = 'count')"
   ]
  },
  {
   "cell_type": "code",
   "execution_count": null,
   "metadata": {
    "collapsed": false
   },
   "outputs": [],
   "source": [
    "### Michael Kors related comments and reposts count per day \n",
    "gender_count = df_ts_alltype.groupby(['gender','type','brand'])['text'].count()\n",
    "gender_count"
   ]
  },
  {
   "cell_type": "code",
   "execution_count": null,
   "metadata": {
    "collapsed": false
   },
   "outputs": [],
   "source": [
    "### Not all users care about both brands -- a fair comparison should be based on users who posted about both brands\n",
    "\n",
    "user = df_ts_alltype.groupby(['id','type','brand'])['text'].count()\n",
    "user.head(10)"
   ]
  },
  {
   "cell_type": "code",
   "execution_count": null,
   "metadata": {
    "collapsed": false
   },
   "outputs": [],
   "source": [
    "### use the ratio of each users unqiue post on Michael Kors over the number of unqiue post on Kate Spade \n",
    "selected_users = pd.merge(df_mk, df_ks, how = 'inner', on = 'id')\n",
    "(selected_users.groupby('id')['time_x'].nunique()/selected_users.groupby('id')['time_y'].nunique()).nlargest(10)"
   ]
  },
  {
   "cell_type": "code",
   "execution_count": null,
   "metadata": {
    "collapsed": true
   },
   "outputs": [],
   "source": []
  },
  {
   "cell_type": "code",
   "execution_count": null,
   "metadata": {
    "collapsed": true
   },
   "outputs": [],
   "source": []
  },
  {
   "cell_type": "code",
   "execution_count": null,
   "metadata": {
    "collapsed": true
   },
   "outputs": [],
   "source": []
  }
 ],
 "metadata": {
  "kernelspec": {
   "display_name": "Python 2",
   "language": "python",
   "name": "python2"
  },
  "language_info": {
   "codemirror_mode": {
    "name": "ipython",
    "version": 2
   },
   "file_extension": ".py",
   "mimetype": "text/x-python",
   "name": "python",
   "nbconvert_exporter": "python",
   "pygments_lexer": "ipython2",
   "version": "2.7.10"
  }
 },
 "nbformat": 4,
 "nbformat_minor": 0
}
