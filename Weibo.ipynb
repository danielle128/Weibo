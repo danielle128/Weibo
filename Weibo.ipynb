{
 "cells": [
  {
   "cell_type": "code",
   "execution_count": 2,
   "metadata": {
    "collapsed": false
   },
   "outputs": [],
   "source": [
    "import os,json\n",
    "import pandas as pd\n",
    "from datetime import datetime\n",
    "from dateutil.parser import parse\n",
    "import numpy as np\n",
    "import jieba\n",
    "import jieba.analyse\n",
    "import matplotlib.pyplot as plt\n",
    "%matplotlib inline\n",
    "import seaborn as sns\n",
    "sns.set(style='whitegrid', color_codes=True)\n"
   ]
  },
  {
   "cell_type": "code",
   "execution_count": 3,
   "metadata": {
    "collapsed": false
   },
   "outputs": [
    {
     "name": "stdout",
     "output_type": "stream",
     "text": [
      "8903 5253 9947\n"
     ]
    }
   ],
   "source": [
    "### load files from all folders\n",
    "def list_dirs(dir):                                                                                                  \n",
    "    r = []                                                                                                            \n",
    "    subdirs = [x[0] for x in os.walk(dir)]                                                                            \n",
    "    for subdir in subdirs:                                                                                            \n",
    "        files = os.walk(subdir).next()[2]                                                                             \n",
    "        if (len(files) > 1):                                                                                          \n",
    "            for file in files:                                                                                        \n",
    "                r.append(subdir + '/'+ file)                                                                         \n",
    "    return r \n",
    "path_comments = list_dirs('weibo/comments/')\n",
    "path_reposts = list_dirs('weibo/reposts/')\n",
    "path_statuses = list_dirs('weibo/statuses/')\n",
    "comment_files = [pos_json for pos_json in path_comments if pos_json.endswith('.json')]\n",
    "reposts_files = [pos_json for pos_json in path_reposts if pos_json.endswith('.json')]\n",
    "statuses_files = [pos_json for pos_json in path_statuses if pos_json.endswith('.json')]\n",
    "\n",
    "\n",
    "\n",
    "def make_df(from_files):\n",
    "    df = pd.DataFrame(columns = ['id','gender', 'time','location', 'text'])\n",
    "    for index, json_file in enumerate(from_files):\n",
    "        json_data = open(json_file)\n",
    "        text = json.load(json_data)\n",
    "        user_id = text['user']['id']\n",
    "        user_gender = text['user']['gender']\n",
    "        time = parse(text['created_at'])\n",
    "        if text['user']['location'][0:2] == u'\\u6d77\\u5916':\n",
    "            user_loc = text['user']['location'][3:]\n",
    "        else:    \n",
    "            user_loc = text['user']['location'][0:2]\n",
    "        try:\n",
    "            user_text = text['retweeted_status']['text']\n",
    "        except:    \n",
    "            user_text = text['text']\n",
    "        df.loc[index] = [user_id, user_gender, time, user_loc, user_text]\n",
    "    return df\n",
    "\n",
    "print len(comment_files),len(reposts_files),len(statuses_files)\n"
   ]
  },
  {
   "cell_type": "code",
   "execution_count": 292,
   "metadata": {
    "collapsed": false
   },
   "outputs": [],
   "source": [
    "\n"
   ]
  },
  {
   "cell_type": "code",
   "execution_count": 4,
   "metadata": {
    "collapsed": false
   },
   "outputs": [],
   "source": [
    "### create dataframes and combine for analysis\n",
    "\n",
    "df_comments = make_df(comment_files)\n",
    "df_reposts = make_df(reposts_files)\n",
    "df_statuses = make_df(statuses_files)\n",
    "\n",
    "df_comments['type'],df_reposts['type'],df_statuses['type'] = 'comment','repost','statuse'\n",
    "\n",
    "df = df_comments.append([df_reposts,df_statuses])"
   ]
  },
  {
   "cell_type": "code",
   "execution_count": 462,
   "metadata": {
    "collapsed": true
   },
   "outputs": [],
   "source": [
    "\n"
   ]
  },
  {
   "cell_type": "code",
   "execution_count": 117,
   "metadata": {
    "collapsed": false
   },
   "outputs": [
    {
     "data": {
      "text/plain": [
       "1"
      ]
     },
     "execution_count": 117,
     "metadata": {},
     "output_type": "execute_result"
    }
   ],
   "source": [
    "\n",
    "df.text.str.lower().str.contains('katespades').sum()"
   ]
  },
  {
   "cell_type": "code",
   "execution_count": 296,
   "metadata": {
    "collapsed": false
   },
   "outputs": [],
   "source": []
  },
  {
   "cell_type": "code",
   "execution_count": 118,
   "metadata": {
    "collapsed": false
   },
   "outputs": [],
   "source": [
    "df_mk,df_ks = df[df.text.str.lower().str.contains('michael kors|michaelkors|micheal kors|michealkors|mk')],df[df.text.str.lower().str.contains('kate spade|katespade|kate spades|katespades|ks')]\n",
    "\n"
   ]
  },
  {
   "cell_type": "code",
   "execution_count": 119,
   "metadata": {
    "collapsed": false
   },
   "outputs": [
    {
     "name": "stdout",
     "output_type": "stream",
     "text": [
      "There are 7529 posts and 4272 users mentioning Michael Kors\n"
     ]
    }
   ],
   "source": [
    "### total number of posts and unique users mentioning Michael Kors\n",
    "print 'There are', len(df_mk) , 'posts and' , df_mk['id'].nunique() , 'users mentioning Michael Kors'"
   ]
  },
  {
   "cell_type": "code",
   "execution_count": 120,
   "metadata": {
    "collapsed": false
   },
   "outputs": [
    {
     "name": "stdout",
     "output_type": "stream",
     "text": [
      "There are 8120 posts and 4277 users mentioning Kate Spade\n"
     ]
    }
   ],
   "source": [
    "### total number of posts and unique users mentioning Kate Spade\n",
    "print 'There are', len(df_ks) , 'posts and' , df_ks['id'].nunique() , 'users mentioning Kate Spade'"
   ]
  },
  {
   "cell_type": "code",
   "execution_count": 122,
   "metadata": {
    "collapsed": false
   },
   "outputs": [
    {
     "data": {
      "text/plain": [
       "id\n",
       "3217535201    591\n",
       "2187298830    271\n",
       "3956831443    188\n",
       "5689266274    155\n",
       "5671523257    146\n",
       "3737544502    143\n",
       "1161106650    112\n",
       "3481576475     98\n",
       "5319321035     88\n",
       "1811061014     79\n",
       "dtype: int64"
      ]
     },
     "execution_count": 122,
     "metadata": {},
     "output_type": "execute_result"
    }
   ],
   "source": [
    "### top 10 users for total posts\n",
    "df.groupby('id').size().nlargest(10)"
   ]
  },
  {
   "cell_type": "code",
   "execution_count": 125,
   "metadata": {
    "collapsed": false
   },
   "outputs": [
    {
     "data": {
      "text/plain": [
       "location\n",
       "美国    4439\n",
       "其他    2634\n",
       "广东    2180\n",
       "上海    1761\n",
       "北京    1681\n",
       "浙江    1254\n",
       "江苏    1109\n",
       "四川     936\n",
       "湖北     586\n",
       "香港     573\n",
       "dtype: int64"
      ]
     },
     "execution_count": 125,
     "metadata": {},
     "output_type": "execute_result"
    }
   ],
   "source": [
    "### top 10 locations for total posts\n",
    "df[df.location!=''].groupby('location').size().nlargest(10)"
   ]
  },
  {
   "cell_type": "code",
   "execution_count": 121,
   "metadata": {
    "collapsed": false,
    "scrolled": true
   },
   "outputs": [
    {
     "data": {
      "text/plain": [
       "id\n",
       "5671523257    145\n",
       "5689266274    144\n",
       "3737544502    123\n",
       "3956831443    107\n",
       "2417793200     70\n",
       "2179810147     50\n",
       "2204576563     46\n",
       "3764313851     41\n",
       "3219312864     40\n",
       "5389076341     40\n",
       "dtype: int64"
      ]
     },
     "execution_count": 121,
     "metadata": {},
     "output_type": "execute_result"
    }
   ],
   "source": [
    "### top 10 users with Michael Kors mentions\n",
    "df_mk.groupby('id').size().nlargest(10)"
   ]
  },
  {
   "cell_type": "code",
   "execution_count": 90,
   "metadata": {
    "collapsed": false,
    "scrolled": true
   },
   "outputs": [
    {
     "data": {
      "text/plain": [
       "location\n",
       "美国    1337\n",
       "其他     823\n",
       "广东     682\n",
       "北京     535\n",
       "上海     483\n",
       "香港     427\n",
       "江苏     342\n",
       "四川     291\n",
       "浙江     266\n",
       "湖北     133\n",
       "dtype: int64"
      ]
     },
     "execution_count": 90,
     "metadata": {},
     "output_type": "execute_result"
    }
   ],
   "source": [
    "### top 10 locations with Michael Kors mentions\n",
    "df_mk[df_mk.location!=''].groupby('location').size().nlargest(10)"
   ]
  },
  {
   "cell_type": "code",
   "execution_count": 91,
   "metadata": {
    "collapsed": false
   },
   "outputs": [
    {
     "data": {
      "text/plain": [
       "id\n",
       "2187298830    180\n",
       "3481576475     56\n",
       "3956831443     54\n",
       "2879168864     37\n",
       "2263431535     36\n",
       "1649283513     34\n",
       "2964030550     34\n",
       "3284734883     34\n",
       "2153953131     31\n",
       "3127915453     29\n",
       "dtype: int64"
      ]
     },
     "execution_count": 91,
     "metadata": {},
     "output_type": "execute_result"
    }
   ],
   "source": [
    "### top 10 users with Kate Spade mentions\n",
    "df_ks.groupby('id').size().nlargest(10)"
   ]
  },
  {
   "cell_type": "code",
   "execution_count": 92,
   "metadata": {
    "collapsed": false
   },
   "outputs": [
    {
     "data": {
      "text/plain": [
       "location\n",
       "美国    2077\n",
       "其他     814\n",
       "广东     757\n",
       "上海     611\n",
       "北京     536\n",
       "浙江     443\n",
       "江苏     326\n",
       "四川     229\n",
       "湖北     181\n",
       "山东     171\n",
       "dtype: int64"
      ]
     },
     "execution_count": 92,
     "metadata": {},
     "output_type": "execute_result"
    }
   ],
   "source": [
    "### top 10 locations with Kate Spade mentions\n",
    "df_ks[df_ks.location!=''].groupby('location').size().nlargest(10)"
   ]
  },
  {
   "cell_type": "code",
   "execution_count": 93,
   "metadata": {
    "collapsed": false
   },
   "outputs": [
    {
     "name": "stderr",
     "output_type": "stream",
     "text": [
      "/Users/danti/anaconda/lib/python2.7/site-packages/IPython/kernel/__main__.py:3: SettingWithCopyWarning: \n",
      "A value is trying to be set on a copy of a slice from a DataFrame.\n",
      "Try using .loc[row_indexer,col_indexer] = value instead\n",
      "\n",
      "See the the caveats in the documentation: http://pandas.pydata.org/pandas-docs/stable/indexing.html#indexing-view-versus-copy\n",
      "  app.launch_new_instance()\n",
      "/Users/danti/anaconda/lib/python2.7/site-packages/IPython/kernel/__main__.py:4: SettingWithCopyWarning: \n",
      "A value is trying to be set on a copy of a slice from a DataFrame.\n",
      "Try using .loc[row_indexer,col_indexer] = value instead\n",
      "\n",
      "See the the caveats in the documentation: http://pandas.pydata.org/pandas-docs/stable/indexing.html#indexing-view-versus-copy\n"
     ]
    }
   ],
   "source": [
    "### create time series data frames\n",
    "df_mk.index, df_ks.index = df_mk['time'], df_ks['time']\n",
    "df_mk['date'], df_mk['hour'], df_mk['brand'] = df_mk.index.date, df_mk.index.hour, 'Michael Kors'\n",
    "df_ks['date'], df_ks['hour'], df_ks['brand'] = df_ks.index.date, df_ks.index.hour, 'Kate Spade'"
   ]
  },
  {
   "cell_type": "code",
   "execution_count": 94,
   "metadata": {
    "collapsed": false
   },
   "outputs": [
    {
     "name": "stdout",
     "output_type": "stream",
     "text": [
      "date\n",
      "2015-10-16    423\n",
      "dtype: int64 date\n",
      "2015-09-04    519\n",
      "dtype: int64\n"
     ]
    }
   ],
   "source": [
    "### top mention date for each brand\n",
    "print df_mk.groupby('date').size().nlargest(1), df_ks.groupby('date').size().nlargest(1)"
   ]
  },
  {
   "cell_type": "code",
   "execution_count": 95,
   "metadata": {
    "collapsed": false
   },
   "outputs": [
    {
     "name": "stdout",
     "output_type": "stream",
     "text": [
      "hour\n",
      "5    607\n",
      "dtype: int64 hour\n",
      "2    637\n",
      "dtype: int64\n"
     ]
    }
   ],
   "source": [
    "### top mention hour for each brand\n",
    "print df_mk.groupby('hour').size().nlargest(1), df_ks.groupby('hour').size().nlargest(1)"
   ]
  },
  {
   "cell_type": "code",
   "execution_count": null,
   "metadata": {
    "collapsed": true
   },
   "outputs": [],
   "source": []
  },
  {
   "cell_type": "code",
   "execution_count": 96,
   "metadata": {
    "collapsed": false
   },
   "outputs": [
    {
     "name": "stderr",
     "output_type": "stream",
     "text": [
      "Building prefix dict from /Users/danti/anaconda/lib/python2.7/site-packages/jieba/dict.txt ...\n",
      "DEBUG:jieba:Building prefix dict from /Users/danti/anaconda/lib/python2.7/site-packages/jieba/dict.txt ...\n",
      "Dumping model to file cache /var/folders/9h/9kk5bfks339ghcw0tmsx83180000gn/T/jieba.cache\n",
      "DEBUG:jieba:Dumping model to file cache /var/folders/9h/9kk5bfks339ghcw0tmsx83180000gn/T/jieba.cache\n",
      "Loading model cost 1.749 seconds.\n",
      "DEBUG:jieba:Loading model cost 1.749 seconds.\n",
      "Prefix dict has been built succesfully.\n",
      "DEBUG:jieba:Prefix dict has been built succesfully.\n"
     ]
    },
    {
     "data": {
      "text/html": [
       "<div>\n",
       "<table border=\"1\" class=\"dataframe\">\n",
       "  <thead>\n",
       "    <tr style=\"text-align: right;\">\n",
       "      <th></th>\n",
       "      <th>0</th>\n",
       "      <th>1</th>\n",
       "      <th>2</th>\n",
       "      <th>3</th>\n",
       "      <th>4</th>\n",
       "      <th>5</th>\n",
       "      <th>6</th>\n",
       "      <th>7</th>\n",
       "      <th>8</th>\n",
       "      <th>9</th>\n",
       "      <th>10</th>\n",
       "      <th>11</th>\n",
       "      <th>12</th>\n",
       "      <th>13</th>\n",
       "      <th>14</th>\n",
       "      <th>15</th>\n",
       "      <th>16</th>\n",
       "      <th>17</th>\n",
       "      <th>18</th>\n",
       "      <th>19</th>\n",
       "    </tr>\n",
       "  </thead>\n",
       "  <tbody>\n",
       "    <tr>\n",
       "      <th>0</th>\n",
       "      <td>kors</td>\n",
       "      <td>michael</td>\n",
       "      <td>mk</td>\n",
       "      <td>cn</td>\n",
       "      <td>http</td>\n",
       "      <td>慈善</td>\n",
       "      <td>饥饿</td>\n",
       "      <td>michaelkors</td>\n",
       "      <td>代购</td>\n",
       "      <td>直邮</td>\n",
       "      <td>刘雯</td>\n",
       "      <td>watchhungerstop</td>\n",
       "      <td>2015</td>\n",
       "      <td>遭受</td>\n",
       "      <td>正品</td>\n",
       "      <td>世界</td>\n",
       "      <td>50</td>\n",
       "      <td>##</td>\n",
       "      <td>粮食</td>\n",
       "      <td>餐食</td>\n",
       "    </tr>\n",
       "  </tbody>\n",
       "</table>\n",
       "</div>"
      ],
      "text/plain": [
       "     0        1   2   3     4   5   6            7   8   9   10  \\\n",
       "0  kors  michael  mk  cn  http  慈善  饥饿  michaelkors  代购  直邮  刘雯   \n",
       "\n",
       "                11    12  13  14  15  16  17  18  19  \n",
       "0  watchhungerstop  2015  遭受  正品  世界  50  ##  粮食  餐食  "
      ]
     },
     "execution_count": 96,
     "metadata": {},
     "output_type": "execute_result"
    }
   ],
   "source": [
    "### popular words associated with Michael Kors\n",
    "words_mk = u''\n",
    "for word in df_mk['text'].str.lower():\n",
    "    words_mk = words_mk + word\n",
    "    \n",
    "top_word_mk = jieba.analyse.extract_tags(words_mk, topK=20, withWeight=False, allowPOS=())\n",
    "pd.DataFrame(top_word_mk).T"
   ]
  },
  {
   "cell_type": "code",
   "execution_count": 97,
   "metadata": {
    "collapsed": false
   },
   "outputs": [
    {
     "data": {
      "text/html": [
       "<div>\n",
       "<table border=\"1\" class=\"dataframe\">\n",
       "  <thead>\n",
       "    <tr style=\"text-align: right;\">\n",
       "      <th></th>\n",
       "      <th>0</th>\n",
       "      <th>1</th>\n",
       "      <th>2</th>\n",
       "      <th>3</th>\n",
       "      <th>4</th>\n",
       "      <th>5</th>\n",
       "      <th>6</th>\n",
       "      <th>7</th>\n",
       "      <th>8</th>\n",
       "      <th>9</th>\n",
       "      <th>10</th>\n",
       "      <th>11</th>\n",
       "      <th>12</th>\n",
       "      <th>13</th>\n",
       "      <th>14</th>\n",
       "      <th>15</th>\n",
       "      <th>16</th>\n",
       "      <th>17</th>\n",
       "      <th>18</th>\n",
       "      <th>19</th>\n",
       "    </tr>\n",
       "  </thead>\n",
       "  <tbody>\n",
       "    <tr>\n",
       "      <th>0</th>\n",
       "      <td>spade</td>\n",
       "      <td>kate</td>\n",
       "      <td>cn</td>\n",
       "      <td>http</td>\n",
       "      <td>new</td>\n",
       "      <td>直邮</td>\n",
       "      <td>york</td>\n",
       "      <td>到手</td>\n",
       "      <td>包包</td>\n",
       "      <td>折扣</td>\n",
       "      <td>代购</td>\n",
       "      <td>钱包</td>\n",
       "      <td>2015</td>\n",
       "      <td>holiday</td>\n",
       "      <td>视频</td>\n",
       "      <td>特价</td>\n",
       "      <td>转发</td>\n",
       "      <td>美国</td>\n",
       "      <td>kloss</td>\n",
       "      <td>karlie</td>\n",
       "    </tr>\n",
       "  </tbody>\n",
       "</table>\n",
       "</div>"
      ],
      "text/plain": [
       "      0     1   2     3    4   5     6   7   8   9   10  11    12       13  \\\n",
       "0  spade  kate  cn  http  new  直邮  york  到手  包包  折扣  代购  钱包  2015  holiday   \n",
       "\n",
       "   14  15  16  17     18      19  \n",
       "0  视频  特价  转发  美国  kloss  karlie  "
      ]
     },
     "execution_count": 97,
     "metadata": {},
     "output_type": "execute_result"
    }
   ],
   "source": [
    "### popular words associated with Kate Spade\n",
    "words_ks = u''\n",
    "for word in df_ks['text'].str.lower():\n",
    "    words_ks = words_ks + word\n",
    "    \n",
    "top_word_ks = jieba.analyse.extract_tags(words_ks, topK=20, withWeight=False, allowPOS=())\n",
    "pd.DataFrame(top_word_ks).T"
   ]
  },
  {
   "cell_type": "code",
   "execution_count": 98,
   "metadata": {
    "collapsed": false
   },
   "outputs": [
    {
     "data": {
      "text/html": [
       "<div>\n",
       "<table border=\"1\" class=\"dataframe\">\n",
       "  <thead>\n",
       "    <tr style=\"text-align: right;\">\n",
       "      <th></th>\n",
       "      <th>id</th>\n",
       "      <th>gender</th>\n",
       "      <th>time</th>\n",
       "      <th>location</th>\n",
       "      <th>text</th>\n",
       "      <th>type</th>\n",
       "      <th>date</th>\n",
       "      <th>hour</th>\n",
       "      <th>brand</th>\n",
       "    </tr>\n",
       "    <tr>\n",
       "      <th>time</th>\n",
       "      <th></th>\n",
       "      <th></th>\n",
       "      <th></th>\n",
       "      <th></th>\n",
       "      <th></th>\n",
       "      <th></th>\n",
       "      <th></th>\n",
       "      <th></th>\n",
       "      <th></th>\n",
       "    </tr>\n",
       "  </thead>\n",
       "  <tbody>\n",
       "    <tr>\n",
       "      <th>2015-08-29 00:30:51</th>\n",
       "      <td>2302077230</td>\n",
       "      <td>f</td>\n",
       "      <td>2015-08-29 00:30:51</td>\n",
       "      <td>浙江</td>\n",
       "      <td>MK等他打到RMB2000以下买就值了[偷笑]</td>\n",
       "      <td>comment</td>\n",
       "      <td>2015-08-29</td>\n",
       "      <td>0</td>\n",
       "      <td>Michael Kors</td>\n",
       "    </tr>\n",
       "    <tr>\n",
       "      <th>2015-08-29 00:38:00</th>\n",
       "      <td>2302077230</td>\n",
       "      <td>f</td>\n",
       "      <td>2015-08-29 00:38:00</td>\n",
       "      <td>浙江</td>\n",
       "      <td>回复@Arielle_K: MK就是“啊我好喜欢这个款式可惜买不起去看看MK有没有同款”，不...</td>\n",
       "      <td>comment</td>\n",
       "      <td>2015-08-29</td>\n",
       "      <td>0</td>\n",
       "      <td>Michael Kors</td>\n",
       "    </tr>\n",
       "    <tr>\n",
       "      <th>2015-08-29 04:34:09</th>\n",
       "      <td>1728202521</td>\n",
       "      <td>f</td>\n",
       "      <td>2015-08-29 04:34:09</td>\n",
       "      <td>陕西</td>\n",
       "      <td>@王点点尼莫 现终于开MK了.....[震惊]</td>\n",
       "      <td>comment</td>\n",
       "      <td>2015-08-29</td>\n",
       "      <td>4</td>\n",
       "      <td>Michael Kors</td>\n",
       "    </tr>\n",
       "    <tr>\n",
       "      <th>2015-08-29 09:08:09</th>\n",
       "      <td>1738272857</td>\n",
       "      <td>f</td>\n",
       "      <td>2015-08-29 09:08:09</td>\n",
       "      <td>广东</td>\n",
       "      <td>香港MK在哪哦？谢谢。</td>\n",
       "      <td>comment</td>\n",
       "      <td>2015-08-29</td>\n",
       "      <td>9</td>\n",
       "      <td>Michael Kors</td>\n",
       "    </tr>\n",
       "    <tr>\n",
       "      <th>2015-08-30 12:50:46</th>\n",
       "      <td>3481576475</td>\n",
       "      <td>f</td>\n",
       "      <td>2015-08-30 12:50:46</td>\n",
       "      <td>上海</td>\n",
       "      <td>定了个这个，mk flap 正红色小钱包，可以放100RMB的哦～</td>\n",
       "      <td>comment</td>\n",
       "      <td>2015-08-30</td>\n",
       "      <td>12</td>\n",
       "      <td>Michael Kors</td>\n",
       "    </tr>\n",
       "  </tbody>\n",
       "</table>\n",
       "</div>"
      ],
      "text/plain": [
       "                             id gender                time location  \\\n",
       "time                                                                  \n",
       "2015-08-29 00:30:51  2302077230      f 2015-08-29 00:30:51       浙江   \n",
       "2015-08-29 00:38:00  2302077230      f 2015-08-29 00:38:00       浙江   \n",
       "2015-08-29 04:34:09  1728202521      f 2015-08-29 04:34:09       陕西   \n",
       "2015-08-29 09:08:09  1738272857      f 2015-08-29 09:08:09       广东   \n",
       "2015-08-30 12:50:46  3481576475      f 2015-08-30 12:50:46       上海   \n",
       "\n",
       "                                                                  text  \\\n",
       "time                                                                     \n",
       "2015-08-29 00:30:51                            MK等他打到RMB2000以下买就值了[偷笑]   \n",
       "2015-08-29 00:38:00  回复@Arielle_K: MK就是“啊我好喜欢这个款式可惜买不起去看看MK有没有同款”，不...   \n",
       "2015-08-29 04:34:09                            @王点点尼莫 现终于开MK了.....[震惊]   \n",
       "2015-08-29 09:08:09                                        香港MK在哪哦？谢谢。   \n",
       "2015-08-30 12:50:46                  定了个这个，mk flap 正红色小钱包，可以放100RMB的哦～   \n",
       "\n",
       "                        type        date  hour         brand  \n",
       "time                                                          \n",
       "2015-08-29 00:30:51  comment  2015-08-29     0  Michael Kors  \n",
       "2015-08-29 00:38:00  comment  2015-08-29     0  Michael Kors  \n",
       "2015-08-29 04:34:09  comment  2015-08-29     4  Michael Kors  \n",
       "2015-08-29 09:08:09  comment  2015-08-29     9  Michael Kors  \n",
       "2015-08-30 12:50:46  comment  2015-08-30    12  Michael Kors  "
      ]
     },
     "execution_count": 98,
     "metadata": {},
     "output_type": "execute_result"
    }
   ],
   "source": [
    "df_mk.head()"
   ]
  },
  {
   "cell_type": "code",
   "execution_count": 57,
   "metadata": {
    "collapsed": false
   },
   "outputs": [],
   "source": [
    "df_mk_type,df_ks_type = df_mk[df_mk['type']!= 'statuse'], df_ks[df_ks['type']!= 'statuse']\n",
    "\n",
    "df_ts_alltype, df_ts = df_mk.append(df_ks), df_mk_type.append(df_ks_type)\n"
   ]
  },
  {
   "cell_type": "code",
   "execution_count": null,
   "metadata": {
    "collapsed": false
   },
   "outputs": [],
   "source": []
  },
  {
   "cell_type": "code",
   "execution_count": 35,
   "metadata": {
    "collapsed": false
   },
   "outputs": [
    {
     "data": {
      "text/plain": [
       "date        type   \n",
       "2015-08-29  comment      4\n",
       "            repost      13\n",
       "2015-08-30  comment      1\n",
       "            repost       6\n",
       "2015-08-31  repost      40\n",
       "2015-09-01  repost     106\n",
       "2015-09-02  comment      2\n",
       "            repost     185\n",
       "2015-09-03  comment      2\n",
       "            repost      15\n",
       "Name: text, dtype: int64"
      ]
     },
     "execution_count": 35,
     "metadata": {},
     "output_type": "execute_result"
    }
   ],
   "source": [
    "### Michael Kors related comments and reposts count per day \n",
    "ts_count_mk = df_mk_type.groupby(['date','type'])['text'].count()\n",
    "ts_count_mk.head(10)"
   ]
  },
  {
   "cell_type": "code",
   "execution_count": 36,
   "metadata": {
    "collapsed": false
   },
   "outputs": [
    {
     "data": {
      "text/plain": [
       "date        type   \n",
       "2015-08-31  comment      1\n",
       "            repost       9\n",
       "2015-09-01  repost      44\n",
       "2015-09-02  repost      39\n",
       "2015-09-03  comment      1\n",
       "            repost      58\n",
       "2015-09-04  comment      4\n",
       "            repost      83\n",
       "2015-09-05  comment     10\n",
       "            repost     198\n",
       "Name: text, dtype: int64"
      ]
     },
     "execution_count": 36,
     "metadata": {},
     "output_type": "execute_result"
    }
   ],
   "source": [
    "### Kate Spade related comments and reposts count per day \n",
    "ts_count_ks = df_ks_type.groupby(['date','type'])['text'].count()\n",
    "ts_count_ks.head(10)"
   ]
  },
  {
   "cell_type": "code",
   "execution_count": 56,
   "metadata": {
    "collapsed": false,
    "scrolled": true
   },
   "outputs": [
    {
     "data": {
      "text/plain": [
       "<seaborn.axisgrid.FacetGrid at 0x111959e90>"
      ]
     },
     "execution_count": 56,
     "metadata": {},
     "output_type": "execute_result"
    },
    {
     "data": {
      "image/png": "[encoded data removed]",
      "text/plain": [
       "<matplotlib.figure.Figure at 0x113e17d10>"
      ]
     },
     "metadata": {},
     "output_type": "display_data"
    }
   ],
   "source": [
    "### plot total converstation for each brand over the entire time frame\n",
    "g = sns.factorplot(x = 'date', hue = 'type', col = 'brand', data =df_ts, size = 8, kind = 'count')\n",
    "g.set_xticklabels(df_ts.date.unique(),rotation = 90)"
   ]
  },
  {
   "cell_type": "code",
   "execution_count": null,
   "metadata": {
    "collapsed": false
   },
   "outputs": [],
   "source": []
  },
  {
   "cell_type": "code",
   "execution_count": null,
   "metadata": {
    "collapsed": true
   },
   "outputs": [],
   "source": []
  },
  {
   "cell_type": "code",
   "execution_count": 638,
   "metadata": {
    "collapsed": false
   },
   "outputs": [
    {
     "data": {
      "text/plain": [
       "gender\n",
       "f    11281\n",
       "m     1821\n",
       "Name: id, dtype: int64"
      ]
     },
     "execution_count": 638,
     "metadata": {},
     "output_type": "execute_result"
    }
   ],
   "source": [
    "### explore user bias -- gender\n",
    "df.groupby('gender')['id'].nunique()"
   ]
  },
  {
   "cell_type": "code",
   "execution_count": 617,
   "metadata": {
    "collapsed": false
   },
   "outputs": [
    {
     "data": {
      "text/html": [
       "<div>\n",
       "<table border=\"1\" class=\"dataframe\">\n",
       "  <thead>\n",
       "    <tr style=\"text-align: right;\">\n",
       "      <th>gender</th>\n",
       "      <th>f</th>\n",
       "      <th>m</th>\n",
       "    </tr>\n",
       "    <tr>\n",
       "      <th>date</th>\n",
       "      <th></th>\n",
       "      <th></th>\n",
       "    </tr>\n",
       "  </thead>\n",
       "  <tbody>\n",
       "    <tr>\n",
       "      <th>2015-08-29</th>\n",
       "      <td>16</td>\n",
       "      <td>1</td>\n",
       "    </tr>\n",
       "    <tr>\n",
       "      <th>2015-08-30</th>\n",
       "      <td>6</td>\n",
       "      <td>1</td>\n",
       "    </tr>\n",
       "    <tr>\n",
       "      <th>2015-08-31</th>\n",
       "      <td>28</td>\n",
       "      <td>22</td>\n",
       "    </tr>\n",
       "    <tr>\n",
       "      <th>2015-09-01</th>\n",
       "      <td>84</td>\n",
       "      <td>66</td>\n",
       "    </tr>\n",
       "    <tr>\n",
       "      <th>2015-09-02</th>\n",
       "      <td>164</td>\n",
       "      <td>62</td>\n",
       "    </tr>\n",
       "  </tbody>\n",
       "</table>\n",
       "</div>"
      ],
      "text/plain": [
       "gender        f   m\n",
       "date               \n",
       "2015-08-29   16   1\n",
       "2015-08-30    6   1\n",
       "2015-08-31   28  22\n",
       "2015-09-01   84  66\n",
       "2015-09-02  164  62"
      ]
     },
     "execution_count": 617,
     "metadata": {},
     "output_type": "execute_result"
    }
   ],
   "source": [
    "daily_post_count = df_ts['text'].groupby([df_ts.date,df_ts.gender]).size().unstack()\n",
    "daily_posts.head()"
   ]
  },
  {
   "cell_type": "code",
   "execution_count": 621,
   "metadata": {
    "collapsed": false
   },
   "outputs": [
    {
     "data": {
      "text/plain": [
       "<matplotlib.axes._subplots.AxesSubplot at 0x135d43e50>"
      ]
     },
     "execution_count": 621,
     "metadata": {},
     "output_type": "execute_result"
    },
    {
     "data": {
      "image/png": "[encoded data removed]",
      "text/plain": [
       "<matplotlib.figure.Figure at 0x135d5a450>"
      ]
     },
     "metadata": {},
     "output_type": "display_data"
    }
   ],
   "source": [
    "plt.title('Number of Posts, Averaged Daily', fontsize = 18)\n",
    "sns.boxplot(data = daily_posts)\n",
    "sns.stripplot(data = daily_posts,jitter=True)"
   ]
  },
  {
   "cell_type": "code",
   "execution_count": 622,
   "metadata": {
    "collapsed": false
   },
   "outputs": [
    {
     "data": {
      "text/plain": [
       "<seaborn.axisgrid.FacetGrid at 0x13578fa50>"
      ]
     },
     "execution_count": 622,
     "metadata": {},
     "output_type": "execute_result"
    },
    {
     "data": {
      "image/png": "[encoded data removed]",
      "text/plain": [
       "<matplotlib.figure.Figure at 0x135dc8190>"
      ]
     },
     "metadata": {},
     "output_type": "display_data"
    }
   ],
   "source": [
    "sns.set(style='ticks')\n",
    "g = sns.factorplot(x = 'date', hue = 'gender', col = 'brand', data =df_ts, size = 10, kind = 'count')\n",
    "g.set_xticklabels(df_ts.date.unique(),rotation = 90)"
   ]
  },
  {
   "cell_type": "code",
   "execution_count": 42,
   "metadata": {
    "collapsed": false
   },
   "outputs": [
    {
     "data": {
      "text/plain": [
       "brand         type     gender\n",
       "Kate Spade    comment  f           72\n",
       "                       m           10\n",
       "              repost   f         2280\n",
       "                       m          303\n",
       "              statuse  f         4882\n",
       "                       m          567\n",
       "Michael Kors  comment  f           86\n",
       "                       m           18\n",
       "              repost   f         2180\n",
       "                       m          638\n",
       "              statuse  f         3966\n",
       "                       m          636\n",
       "Name: text, dtype: int64"
      ]
     },
     "execution_count": 42,
     "metadata": {},
     "output_type": "execute_result"
    }
   ],
   "source": [
    "### Michael Kors related comments and reposts count per day \n",
    "gender_count = df_ts_alltype.groupby(['brand','type','gender'])['text'].count()\n",
    "gender_count"
   ]
  },
  {
   "cell_type": "code",
   "execution_count": 68,
   "metadata": {
    "collapsed": false
   },
   "outputs": [
    {
     "data": {
      "text/plain": [
       "id          type     brand       \n",
       "345872      repost   Kate Spade      1\n",
       "64679199    statuse  Kate Spade      1\n",
       "                     Michael Kors    3\n",
       "1001617114  repost   Michael Kors    1\n",
       "1002485875  statuse  Kate Spade      1\n",
       "1002489981  repost   Michael Kors    2\n",
       "1004465701  repost   Michael Kors    1\n",
       "1004660240  repost   Michael Kors    1\n",
       "1004769935  repost   Kate Spade      1\n",
       "1005018524  statuse  Kate Spade      1\n",
       "Name: text, dtype: int64"
      ]
     },
     "execution_count": 68,
     "metadata": {},
     "output_type": "execute_result"
    }
   ],
   "source": [
    "### Not all users care about both brands -- a fair comparison should be based on users who posted about both brands\n",
    "\n",
    "user = df_ts_alltype.groupby(['id','type','brand'])['text'].count()\n",
    "user.head(10)"
   ]
  },
  {
   "cell_type": "code",
   "execution_count": 84,
   "metadata": {
    "collapsed": false
   },
   "outputs": [
    {
     "data": {
      "text/plain": [
       "id\n",
       "2417793200    70.000000\n",
       "3764313851    41.000000\n",
       "5389076341    40.000000\n",
       "5050308734    31.000000\n",
       "5631226835    22.000000\n",
       "2674368443    20.000000\n",
       "1774848751    17.000000\n",
       "5151249029    13.000000\n",
       "5270124462    13.000000\n",
       "2254793841    11.000000\n",
       "3273290050    11.000000\n",
       "5676410088    10.500000\n",
       "1351268893     9.000000\n",
       "2556276230     9.000000\n",
       "3167578530     8.000000\n",
       "1777442367     7.500000\n",
       "3737544502     7.235294\n",
       "1583605767     7.000000\n",
       "1869801547     7.000000\n",
       "1993768157     7.000000\n",
       "dtype: float64"
      ]
     },
     "execution_count": 84,
     "metadata": {},
     "output_type": "execute_result"
    }
   ],
   "source": [
    "### use the ratio of each users unqiue post on Michael Kors over the number of unqiue post on Kate Spade \n",
    "selected_users = pd.merge(df_mk, df_ks, how = 'inner', on = 'id')\n",
    "(selected_users.groupby('id')['time_x'].nunique()/selected_users.groupby('id')['time_y'].nunique()).nlargest(20)"
   ]
  },
  {
   "cell_type": "code",
   "execution_count": null,
   "metadata": {
    "collapsed": true
   },
   "outputs": [],
   "source": []
  },
  {
   "cell_type": "code",
   "execution_count": null,
   "metadata": {
    "collapsed": true
   },
   "outputs": [],
   "source": []
  },
  {
   "cell_type": "code",
   "execution_count": null,
   "metadata": {
    "collapsed": true
   },
   "outputs": [],
   "source": []
  }
 ],
 "metadata": {
  "kernelspec": {
   "display_name": "Python 2",
   "language": "python",
   "name": "python2"
  },
  "language_info": {
   "codemirror_mode": {
    "name": "ipython",
    "version": 2
   },
   "file_extension": ".py",
   "mimetype": "text/x-python",
   "name": "python",
   "nbconvert_exporter": "python",
   "pygments_lexer": "ipython2",
   "version": "2.7.10"
  }
 },
 "nbformat": 4,
 "nbformat_minor": 0
}
